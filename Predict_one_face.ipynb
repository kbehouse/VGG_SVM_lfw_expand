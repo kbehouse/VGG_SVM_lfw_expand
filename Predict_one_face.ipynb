{
 "cells": [
  {
   "cell_type": "code",
   "execution_count": 1,
   "metadata": {
    "collapsed": true
   },
   "outputs": [],
   "source": [
    "%matplotlib inline\n",
    "import matplotlib.pyplot as plt\n",
    "from PIL import Image\n",
    "\n",
    "from __future__ import division\n",
    "import os\n",
    "import sys\n",
    "import skimage\n",
    "import numpy as np\n",
    "from scipy import spatial\n",
    "from sklearn import svm\n",
    "from logging.config import fileConfig\n",
    "import time\n",
    "\n",
    "\n",
    "sys.path.append(\"SVMMatching/\")\n",
    "from facetool import FaceTool\n",
    "\n",
    "\n",
    "sys.path.append(\"FeatureExtraction/\")\n",
    "\n",
    "#Add caffe path\n",
    "sys.path.append(\"/home/iclab/ibm/face-recognition/caffe/caffe/python\")\n",
    "import caffe\n",
    "import cv2\n",
    "from VGGFeatureExtractor import VGGExtractor\n",
    "\n",
    "\n",
    "from sklearn.externals import joblib"
   ]
  },
  {
   "cell_type": "code",
   "execution_count": 2,
   "metadata": {
    "collapsed": true
   },
   "outputs": [],
   "source": [
    "classifier = joblib.load('svm.pkl') \n",
    "\n",
    "target_img_rows = 224\n",
    "target_img_cols = 224\n",
    "\n",
    "#----Test One Face Picture-----#\n",
    "vgg_face_caffe_path =  'vgg_face_caffe/'\n",
    "model_file          = vgg_face_caffe_path + '/VGG_FACE_deploy.prototxt'\n",
    "pretrained_file     = vgg_face_caffe_path + '/VGG_FACE.caffemodel'\n",
    "vggExtractor = VGGExtractor(model_file,pretrained_file)\n",
    "\n",
    "ftool = FaceTool('./')"
   ]
  },
  {
   "cell_type": "code",
   "execution_count": 3,
   "metadata": {},
   "outputs": [
    {
     "name": "stdout",
     "output_type": "stream",
     "text": [
      "--- Use 0.0963129997253 seconds for only vggExtractor ---\n",
      "('pre_result', 3)\n",
      "--- Use 0.000669002532959 seconds only classifier.predict---\n",
      "Aaron_Sorkin\n"
     ]
    }
   ],
   "source": [
    "#--------------Test One Face---------------#\n",
    "def prdict_one_face(im_face):\n",
    "    \n",
    "    \n",
    "    img = np.asarray(cv2.resize(im_face, (target_img_rows,target_img_cols)).astype(np.float32) )\n",
    "    \n",
    "    \n",
    "    vggExtractor_time = time.time() \n",
    "    \n",
    "    featureVector = vggExtractor.GetFeature(img)\n",
    "\n",
    "    print(\"--- Use %s seconds for only vggExtractor ---\" % ( time.time() - vggExtractor_time))\n",
    "\n",
    "    \n",
    "    featureVector = np.asarray(featureVector['fc7'])[0,:]\n",
    "    \n",
    "    \n",
    "    vMax = max(featureVector)\n",
    "    fea_div_vMax = featureVector/vMax\n",
    "    fea_div_vMax_ary = []\n",
    "    fea_div_vMax_ary.append(fea_div_vMax)\n",
    "    \n",
    "    \n",
    "    \n",
    "    before_predict_time = time.time()\n",
    "    pre_result = classifier.predict(fea_div_vMax_ary)[0]\n",
    "    print('pre_result',pre_result)\n",
    "    \n",
    "    print(\"--- Use %s seconds only classifier.predict---\" % ( time.time() - before_predict_time))\n",
    "    \n",
    "    return pre_result\n",
    "    \n",
    "    # clf=svm.SVC(probability=True), you need to retrain it \n",
    "    p_p = classifier.predict_proba(fea_div_vMax_ary)\n",
    "    p_p = np.squeeze(p_p)\n",
    "#     print('p_p',p_p,'p_p.shape', p_p.shape)\n",
    "    \n",
    "    print('p_p[{0}] = {1}, np.argmax(p_p) = {2},arg_same={3}'.\\\n",
    "          format(pre_result, p_p[pre_result], np.argmax(p_p), (pre_result==np.argmax(p_p)) )   )\n",
    "    \n",
    "    return pre_result if p_p[pre_result] > 0.2 else -1\n",
    "\n",
    "\n",
    "img_path = 'lfw_only6/Aaron_Sorkin/Aaron_Sorkin_0002.jpg'\n",
    "im = cv2.imread(img_path)\n",
    "face_ind = prdict_one_face(im)\n",
    "print ftool.get_face_label(face_ind)"
   ]
  },
  {
   "cell_type": "code",
   "execution_count": null,
   "metadata": {
    "collapsed": true
   },
   "outputs": [],
   "source": []
  }
 ],
 "metadata": {
  "kernelspec": {
   "display_name": "Python 2",
   "language": "python",
   "name": "python2"
  },
  "language_info": {
   "codemirror_mode": {
    "name": "ipython",
    "version": 2
   },
   "file_extension": ".py",
   "mimetype": "text/x-python",
   "name": "python",
   "nbconvert_exporter": "python",
   "pygments_lexer": "ipython2",
   "version": "2.7.12"
  }
 },
 "nbformat": 4,
 "nbformat_minor": 2
}
